{
 "cells": [
  {
   "cell_type": "markdown",
   "id": "a4170ba2",
   "metadata": {},
   "source": [
    "#### problem\n",
    "- 명 수와 각자 돈뽑는 데 걸리는 시간 입력, 시간합은 앞사람 것까지 누적되고, 최종 인출 시간이 가장 작도록 계산해 return \n",
    "#### my own solution\n",
    "- 누적되면서 앞사람의 시간이 계속 다시 더해진다. 그러므로 개인시간이 적은 순서대로 배열 후 더해나가면 최소합\n",
    "- 굳이 더할 필요 없이 first * N, second * (N-1)이런 식으로 곱해준다음 쭉 더하면 calculation becomes easier "
   ]
  },
  {
   "cell_type": "markdown",
   "id": "a7e0220c",
   "metadata": {},
   "source": [
    "5 <br>\n",
    "3 1 4 3 2 <br>\n",
    "(입력)"
   ]
  },
  {
   "cell_type": "code",
   "execution_count": null,
   "id": "be79db2a",
   "metadata": {},
   "outputs": [],
   "source": [
    "# answ\n",
    "import sys\n",
    "N = int(sys.stdin.readline())"
   ]
  },
  {
   "cell_type": "code",
   "execution_count": 1,
   "id": "8da80b99",
   "metadata": {},
   "outputs": [],
   "source": [
    "N = 5"
   ]
  },
  {
   "cell_type": "code",
   "execution_count": 2,
   "id": "1363f04c",
   "metadata": {},
   "outputs": [],
   "source": [
    "lst = list(map(int, input().split()))"
   ]
  },
  {
   "cell_type": "code",
   "execution_count": 4,
   "id": "b839cf4d",
   "metadata": {},
   "outputs": [
    {
     "data": {
      "text/plain": [
       "[3, 1, 4, 3, 2]"
      ]
     },
     "execution_count": 4,
     "metadata": {},
     "output_type": "execute_result"
    }
   ],
   "source": [
    "lst"
   ]
  },
  {
   "cell_type": "code",
   "execution_count": 6,
   "id": "9c8d4534",
   "metadata": {},
   "outputs": [],
   "source": [
    "a =map(int, input().split())"
   ]
  },
  {
   "cell_type": "code",
   "execution_count": 7,
   "id": "64506fea",
   "metadata": {},
   "outputs": [
    {
     "data": {
      "text/plain": [
       "<map at 0x10720c100>"
      ]
     },
     "execution_count": 7,
     "metadata": {},
     "output_type": "execute_result"
    }
   ],
   "source": [
    "a"
   ]
  },
  {
   "cell_type": "markdown",
   "id": "361579a2",
   "metadata": {},
   "source": [
    "map은 원본 리스트를 그래도 두고 새 리스트를 만들어준다.<br> \n",
    "- 리스트의 요소를 지정한 함수로 바꾸어줌. \n",
    "- a, b = map(int, input().split())으로만 사용했었는데 \n",
    "- list 내부의 전부를 int()를 적용하고 싶을 때list()<br><br>\n",
    "\n",
    "list(map(적용할 함수, 바꿀 리스트)) <br>\n",
    "위의 코드에서 input.split()으로 인풋 내의 띄어쓰기를 기반으로 '3' 이렇게 각각 요소가 list에 저장되었을 것이고,"
   ]
  },
  {
   "cell_type": "code",
   "execution_count": null,
   "id": "2ed0c626",
   "metadata": {},
   "outputs": [],
   "source": [
    "# answ\n",
    "lst = list(map(int,  sys.stdin.readline().split()))"
   ]
  },
  {
   "cell_type": "code",
   "execution_count": 8,
   "id": "91f453f9",
   "metadata": {},
   "outputs": [],
   "source": [
    "total = 0\n",
    "for i in range(N):\n",
    "    total += lst[i] * N-i"
   ]
  },
  {
   "cell_type": "code",
   "execution_count": 9,
   "id": "e86cbf09",
   "metadata": {},
   "outputs": [
    {
     "name": "stdout",
     "output_type": "stream",
     "text": [
      "55\n"
     ]
    }
   ],
   "source": [
    "print(total)"
   ]
  },
  {
   "cell_type": "code",
   "execution_count": null,
   "id": "fd7bb51c",
   "metadata": {},
   "outputs": [
    {
     "name": "stdout",
     "output_type": "stream",
     "text": [
      "1 5\n",
      "2 4\n",
      "3 3\n",
      "3 2\n",
      "4 1\n"
     ]
    }
   ],
   "source": [
    "# answ\n",
    "lst.sort()\n",
    "total = 0\n",
    "for i in range(N):\n",
    "    # 0 5-0 1 5-2 2 5-3 3 5-4 4 5-4\n",
    "    # print(lst[i], N-i)\n",
    "    total += lst[i] * (N-i)"
   ]
  },
  {
   "cell_type": "code",
   "execution_count": null,
   "id": "132ee73f",
   "metadata": {},
   "outputs": [
    {
     "name": "stdout",
     "output_type": "stream",
     "text": [
      "32\n"
     ]
    }
   ],
   "source": [
    "# answ\n",
    "print(total)"
   ]
  },
  {
   "cell_type": "code",
   "execution_count": 16,
   "id": "03172730",
   "metadata": {},
   "outputs": [
    {
     "name": "stdout",
     "output_type": "stream",
     "text": [
      "[1, 2, 3, 3, 4]\n"
     ]
    }
   ],
   "source": [
    "print(lst)"
   ]
  },
  {
   "cell_type": "code",
   "execution_count": null,
   "id": "66322572",
   "metadata": {},
   "outputs": [],
   "source": []
  }
 ],
 "metadata": {
  "kernelspec": {
   "display_name": "star",
   "language": "python",
   "name": "python3"
  },
  "language_info": {
   "codemirror_mode": {
    "name": "ipython",
    "version": 3
   },
   "file_extension": ".py",
   "mimetype": "text/x-python",
   "name": "python",
   "nbconvert_exporter": "python",
   "pygments_lexer": "ipython3",
   "version": "3.10.18"
  }
 },
 "nbformat": 4,
 "nbformat_minor": 5
}
