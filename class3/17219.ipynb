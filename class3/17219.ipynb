{
 "cells": [
  {
   "cell_type": "markdown",
   "id": "d12939cd",
   "metadata": {},
   "source": [
    "#### about the problem\n",
    "- among the saved sites N, there is M, which is the number of sites that requires pw searching.\n",
    "- xxx.xxx XX \n",
    "    - the format of one line of input of site and pw. Pw is all in upper case.\n",
    "- last M lines of input is the name of sites, and the output must be each pw in each line."
   ]
  },
  {
   "cell_type": "markdown",
   "id": "87359e0e",
   "metadata": {},
   "source": [
    "#### my thought of solution\n",
    "1. each line needs to be read quickly, so sys.stdin.readline.\n",
    "2. split should done by one spacing\n",
    "3. use dict and key."
   ]
  },
  {
   "cell_type": "code",
   "execution_count": null,
   "id": "279bafe2",
   "metadata": {},
   "outputs": [],
   "source": [
    "# answ\n",
    "import sys\n",
    "N, M = map(int, sys.stdin.readline().split())"
   ]
  },
  {
   "cell_type": "code",
   "execution_count": null,
   "id": "f22773ea",
   "metadata": {},
   "outputs": [],
   "source": [
    "# answ\n",
    "site_pw_dic = {}\n",
    "for _ in range(N):\n",
    "    a = sys.stdin.readline().split()\n",
    "    name = a[0]\n",
    "    pw = a[1]\n",
    "    site_pw_dic[name] = pw"
   ]
  },
  {
   "cell_type": "code",
   "execution_count": 2,
   "id": "46951e5e",
   "metadata": {},
   "outputs": [],
   "source": [
    "N = 3\n",
    "M = 2"
   ]
  },
  {
   "cell_type": "code",
   "execution_count": null,
   "id": "7430a01c",
   "metadata": {},
   "outputs": [],
   "source": [
    "## test\n",
    "site_pw_dic = {}\n",
    "for _ in range(N):\n",
    "    a = input().split()\n",
    "    name = a[0]\n",
    "    pw = a[1]\n",
    "    site_pw_dic[name] = pw"
   ]
  },
  {
   "cell_type": "code",
   "execution_count": 5,
   "id": "ac74b0bf",
   "metadata": {},
   "outputs": [
    {
     "name": "stdout",
     "output_type": "stream",
     "text": [
      "{'noj.am': 'IU', 'acmicpc.net': 'UAENA', 'startlink.io': 'THEKINGOD'}\n"
     ]
    }
   ],
   "source": [
    "print(site_pw_dic)"
   ]
  },
  {
   "cell_type": "code",
   "execution_count": 7,
   "id": "2e7f7526",
   "metadata": {},
   "outputs": [
    {
     "name": "stdout",
     "output_type": "stream",
     "text": [
      "THEKINGOD\n",
      "UAENA\n"
     ]
    }
   ],
   "source": [
    "for _ in range(M):\n",
    "    site = input()\n",
    "    print(site_pw_dic[site])"
   ]
  },
  {
   "cell_type": "code",
   "execution_count": null,
   "id": "dc52989f",
   "metadata": {},
   "outputs": [],
   "source": [
    "# answ\n",
    "for _ in range(M):\n",
    "    site = sys.stdin.readline()\n",
    "    print(site_pw_dic[site])"
   ]
  },
  {
   "cell_type": "markdown",
   "id": "bad61c3f",
   "metadata": {},
   "source": [
    "#### error: runtime KeyError\n",
    "- keyerror occurs when trying to search dict with non existent key.\n",
    "- I forgot that readline() brings the \\n newline character too, at the end of input.\n",
    "- so using. strip() should solve the problem."
   ]
  },
  {
   "cell_type": "markdown",
   "id": "8b101203",
   "metadata": {},
   "source": [
    "#### final answer"
   ]
  },
  {
   "cell_type": "code",
   "execution_count": null,
   "id": "81f0f56f",
   "metadata": {},
   "outputs": [],
   "source": [
    "import sys\n",
    "N, M = map(int, sys.stdin.readline().split())\n",
    "\n",
    "site_pw_dic = {}\n",
    "for _ in range(N):\n",
    "    a = sys.stdin.readline().split()\n",
    "    name = a[0]\n",
    "    pw = a[1]\n",
    "    site_pw_dic[name] = pw\n",
    "\n",
    "for _ in range(M):\n",
    "    site = sys.stdin.readline().strip()\n",
    "    print(site_pw_dic[site])"
   ]
  }
 ],
 "metadata": {
  "kernelspec": {
   "display_name": "star",
   "language": "python",
   "name": "python3"
  },
  "language_info": {
   "codemirror_mode": {
    "name": "ipython",
    "version": 3
   },
   "file_extension": ".py",
   "mimetype": "text/x-python",
   "name": "python",
   "nbconvert_exporter": "python",
   "pygments_lexer": "ipython3",
   "version": "3.10.18"
  }
 },
 "nbformat": 4,
 "nbformat_minor": 5
}
