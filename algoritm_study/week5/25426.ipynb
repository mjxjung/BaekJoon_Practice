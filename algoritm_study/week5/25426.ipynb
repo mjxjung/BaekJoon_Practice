{
 "cells": [
  {
   "cell_type": "code",
   "execution_count": 2,
   "id": "6bcaef90",
   "metadata": {},
   "outputs": [],
   "source": [
    "T = int(input())"
   ]
  },
  {
   "cell_type": "code",
   "execution_count": 3,
   "id": "f16713ea",
   "metadata": {},
   "outputs": [],
   "source": [
    "lst = []\n",
    "for _ in range(T):\n",
    "    a, b = map(int, input().split())\n",
    "    lst.append([a, b])"
   ]
  },
  {
   "cell_type": "code",
   "execution_count": 4,
   "id": "9f9c2e73",
   "metadata": {},
   "outputs": [
    {
     "name": "stdout",
     "output_type": "stream",
     "text": [
      "[[2, 4], [5, 1], [3, 2], [1, 10], [0, 0]]\n"
     ]
    }
   ],
   "source": [
    "print(lst)"
   ]
  },
  {
   "cell_type": "code",
   "execution_count": 5,
   "id": "59d5fc49",
   "metadata": {},
   "outputs": [
    {
     "name": "stdout",
     "output_type": "stream",
     "text": [
      "5\n",
      "4\n",
      "3\n",
      "2\n",
      "1\n"
     ]
    }
   ],
   "source": [
    "for i in range(5, 0, -1):\n",
    "    print(i)"
   ]
  },
  {
   "cell_type": "code",
   "execution_count": 41,
   "id": "840ac34e",
   "metadata": {},
   "outputs": [],
   "source": [
    "lst = []\n",
    "lst.append([2, 4])\n",
    "lst.append([5, 1])\n",
    "lst.append([3, 2])\n",
    "lst.append([1, 10])\n",
    "lst.append([0, 0])"
   ]
  },
  {
   "cell_type": "code",
   "execution_count": 6,
   "id": "4fbc7e56",
   "metadata": {},
   "outputs": [
    {
     "name": "stdout",
     "output_type": "stream",
     "text": [
      "[2, 4]\n",
      "[5, 1]\n",
      "[3, 2]\n",
      "[1, 10]\n",
      "[0, 0]\n"
     ]
    }
   ],
   "source": [
    "for l in lst:\n",
    "    print(l)"
   ]
  },
  {
   "cell_type": "code",
   "execution_count": 25,
   "id": "93950ebf",
   "metadata": {},
   "outputs": [
    {
     "name": "stdout",
     "output_type": "stream",
     "text": [
      "26 1\n",
      "[[2, 4], [-1, -1], [3, 2], [1, 10], [0, 0]]\n",
      "26\n",
      "14 3\n",
      "[[2, 4], [-1, -1], [3, 2], [-1, -1], [0, 0]]\n",
      "40\n",
      "11 2\n",
      "[[2, 4], [-1, -1], [-1, -1], [-1, -1], [0, 0]]\n",
      "51\n",
      "8 0\n",
      "[[-1, -1], [-1, -1], [-1, -1], [-1, -1], [0, 0]]\n",
      "59\n",
      "0 4\n",
      "[[-1, -1], [-1, -1], [-1, -1], [-1, -1], [-1, -1]]\n",
      "59\n"
     ]
    }
   ],
   "source": [
    "answ = 0\n",
    "for x in range(T, 0, -1):\n",
    "    total = 0\n",
    "    idx = 0\n",
    "    for l in lst:\n",
    "        a = l[0]\n",
    "        b = l[1]\n",
    "        f = a*x + b\n",
    "        if f >= total:\n",
    "            total = f\n",
    "            idx = lst.index(l)\n",
    "    print(total, idx)\n",
    "    answ += total\n",
    "    lst[idx] = [-1, -1]\n",
    "    print(lst)\n",
    "    print(answ)\n",
    "    # del(lst[idx])"
   ]
  },
  {
   "cell_type": "markdown",
   "id": "f9b275a0",
   "metadata": {},
   "source": [
    "- ax+b의 값을 최대화하지 않는 건 중요하진 않은 듯\n",
    "- 결국 전체 합이니까 b는 상수로 그냥 취급하면 되고 그냥 가장 큰 5,4,3,2,1로 해서 가는 걸로\n",
    "- - 그럼 걍 sort해버리면 되네;"
   ]
  },
  {
   "cell_type": "code",
   "execution_count": 52,
   "id": "11bbe2f0",
   "metadata": {},
   "outputs": [],
   "source": [
    "lst.sort(reverse=True)"
   ]
  },
  {
   "cell_type": "code",
   "execution_count": 53,
   "id": "c3769bd2",
   "metadata": {},
   "outputs": [
    {
     "name": "stdout",
     "output_type": "stream",
     "text": [
      "[[5, 1], [3, 2], [2, 4], [1, 10], [0, 0]]\n"
     ]
    }
   ],
   "source": [
    "print(lst)"
   ]
  },
  {
   "cell_type": "code",
   "execution_count": 37,
   "id": "83e3128c",
   "metadata": {},
   "outputs": [
    {
     "name": "stdout",
     "output_type": "stream",
     "text": [
      "5\n"
     ]
    }
   ],
   "source": [
    "print(T)"
   ]
  },
  {
   "cell_type": "code",
   "execution_count": 46,
   "id": "73b1b669",
   "metadata": {},
   "outputs": [],
   "source": [
    "sum_a = 0\n",
    "sum_b = 0\n",
    "t = []\n",
    "for x in range(T, 0, -1):\n",
    "    t.append(x)\n",
    "# for x in range(T, 0, -1):\n",
    "#     for l in lst:\n",
    "#         print(l)\n",
    "#         sum_b += l[1]\n",
    "#         sum_a += l[0]*x\n",
    "#         print(sum_a, sum_b)\n",
    "# print(sum_a+sum_b)"
   ]
  },
  {
   "cell_type": "code",
   "execution_count": 47,
   "id": "2a388890",
   "metadata": {},
   "outputs": [
    {
     "data": {
      "text/plain": [
       "[5, 4, 3, 2, 1]"
      ]
     },
     "execution_count": 47,
     "metadata": {},
     "output_type": "execute_result"
    }
   ],
   "source": [
    "t"
   ]
  },
  {
   "cell_type": "code",
   "execution_count": 54,
   "id": "8b1e5bc0",
   "metadata": {},
   "outputs": [
    {
     "name": "stdout",
     "output_type": "stream",
     "text": [
      "5 5\n",
      "4 3\n",
      "3 2\n",
      "2 1\n",
      "1 0\n"
     ]
    }
   ],
   "source": [
    "for i in range(5):\n",
    "    print(t[i], lst[i][0])"
   ]
  },
  {
   "cell_type": "code",
   "execution_count": 57,
   "id": "f6290269",
   "metadata": {},
   "outputs": [
    {
     "name": "stdout",
     "output_type": "stream",
     "text": [
      "25 1\n",
      "12 2\n",
      "6 4\n",
      "2 10\n",
      "0 0\n",
      "62\n"
     ]
    }
   ],
   "source": [
    "total = 0\n",
    "for i in range(5):\n",
    "    a = t[i] * lst[i][0]\n",
    "    b = lst[i][1]\n",
    "    print(a, b)\n",
    "    total += a\n",
    "    total += b\n",
    "print(total)"
   ]
  },
  {
   "cell_type": "code",
   "execution_count": 56,
   "id": "de2f8add",
   "metadata": {},
   "outputs": [
    {
     "data": {
      "text/plain": [
       "62"
      ]
     },
     "execution_count": 56,
     "metadata": {},
     "output_type": "execute_result"
    }
   ],
   "source": [
    "26+14+10+12"
   ]
  },
  {
   "cell_type": "code",
   "execution_count": null,
   "id": "0e8a192d",
   "metadata": {},
   "outputs": [],
   "source": []
  },
  {
   "cell_type": "code",
   "execution_count": null,
   "id": "2f22d340",
   "metadata": {},
   "outputs": [],
   "source": [
    "## 최종답\n",
    "import sys\n",
    "T = int(sys.stdin.readline())\n",
    "lst = []\n",
    "for _ in range(T):\n",
    "    a, b = map(int, input().split())\n",
    "    lst.append([a, b])\n",
    "    \n",
    "t = []\n",
    "for x in range(T, 0, -1):\n",
    "    t.append(x)\n",
    "lst.sort(reverse=True)\n",
    "total = 0\n",
    "for i in range(T):\n",
    "    a = t[i] * lst[i][0]\n",
    "    b = lst[i][1]\n",
    "    total += a\n",
    "    total += b\n",
    "print(total)"
   ]
  },
  {
   "cell_type": "markdown",
   "id": "ab5e9678",
   "metadata": {},
   "source": [
    "더 간소화하는 방법이 있을 것 같음. T대신 숫자 5를 넣어서 잘 안되고 있었음"
   ]
  },
  {
   "cell_type": "markdown",
   "id": "b420eb59",
   "metadata": {},
   "source": []
  }
 ],
 "metadata": {
  "kernelspec": {
   "display_name": "star",
   "language": "python",
   "name": "python3"
  },
  "language_info": {
   "codemirror_mode": {
    "name": "ipython",
    "version": 3
   },
   "file_extension": ".py",
   "mimetype": "text/x-python",
   "name": "python",
   "nbconvert_exporter": "python",
   "pygments_lexer": "ipython3",
   "version": "3.10.18"
  }
 },
 "nbformat": 4,
 "nbformat_minor": 5
}
