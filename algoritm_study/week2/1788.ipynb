{
 "cells": [
  {
   "cell_type": "markdown",
   "id": "b16917c5",
   "metadata": {},
   "source": [
    "#### Problem explanation\n",
    "- fibonacci algorithm, which works for all the nums including negative integers.\n",
    "- Must print out the sign of F(n), wheter it is neg, pos, or zero. and the real value of it."
   ]
  },
  {
   "cell_type": "code",
   "execution_count": 6,
   "id": "b071b958",
   "metadata": {},
   "outputs": [
    {
     "name": "stdout",
     "output_type": "stream",
     "text": [
      "1\n",
      "13\n"
     ]
    }
   ],
   "source": [
    "N = int(input())\n",
    "def F(n):\n",
    "    if n > 1:\n",
    "        return (F(n-1) + F(n-2))\n",
    "    elif n == 1:\n",
    "        return 1\n",
    "    elif n == 0:\n",
    "        return 0\n",
    "if N < 0 and N % 2 == 0:\n",
    "    num = -1\n",
    "    answ = F(-N)\n",
    "elif N < 0 and N % 2 != 0:\n",
    "    num = 1\n",
    "    answ = F(-N)\n",
    "elif N > 0:\n",
    "    num = 1\n",
    "    answ = F(N)\n",
    "elif N == 0:\n",
    "    num = 0\n",
    "    answ = F(N)\n",
    "sh, re = divmod(answ, 1000000000)\n",
    "if sh != 0:\n",
    "    print(num, re, sep=\"\\n\")\n",
    "else:\n",
    "    print(num, answ, sep=\"\\n\")"
   ]
  },
  {
   "cell_type": "code",
   "execution_count": null,
   "id": "00c8295a",
   "metadata": {},
   "outputs": [],
   "source": [
    "if N >= 0:\n",
    "    answ = F(N) % 1000000000\n",
    "    if N == 0:\n",
    "        sign = 0\n",
    "    else:\n",
    "        sign = 1\n",
    "elif N < 0:\n",
    "    sign = (-1) ** (-N+1)\n",
    "    answ = F(-N) % 1000000000\n",
    "\n",
    "print(sign, answ, sep=\"\\n\")"
   ]
  },
  {
   "cell_type": "markdown",
   "id": "a1a943b7",
   "metadata": {},
   "source": [
    "\n",
    "recursion error occurs. I thinke Fibo(n) is the reason why. I will think again tomorrow..1966"
   ]
  },
  {
   "cell_type": "markdown",
   "id": "5f6b0904",
   "metadata": {},
   "source": []
  }
 ],
 "metadata": {
  "kernelspec": {
   "display_name": "star",
   "language": "python",
   "name": "python3"
  },
  "language_info": {
   "codemirror_mode": {
    "name": "ipython",
    "version": 3
   },
   "file_extension": ".py",
   "mimetype": "text/x-python",
   "name": "python",
   "nbconvert_exporter": "python",
   "pygments_lexer": "ipython3",
   "version": "3.10.18"
  }
 },
 "nbformat": 4,
 "nbformat_minor": 5
}
