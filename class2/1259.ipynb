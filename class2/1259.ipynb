{
 "cells": [
  {
   "cell_type": "markdown",
   "id": "46c33aa6",
   "metadata": {},
   "source": [
    "#### Problem explanation\n",
    "Telling whether a given number is Panlindrome number(mirror-same) or not.\n",
    "#### My thought of solution\n",
    "- Must reverse given number str.\n",
    "    - thought of using list and reversing it.\n",
    "    - might be a spectific list methods for this but I used for loop and indexing.\n",
    "- and while loop until 0 is entered.(break when 0)"
   ]
  },
  {
   "cell_type": "code",
   "execution_count": 8,
   "id": "b3ffcfd2",
   "metadata": {},
   "outputs": [
    {
     "name": "stdout",
     "output_type": "stream",
     "text": [
      "['1', '2', '4', '2', '1']\n",
      "[0, 0, 0, 0, 0]\n",
      "[0, 0, 0, 0, '1']\n",
      "[0, 0, 0, '2', '1']\n",
      "[0, 0, '4', '2', '1']\n",
      "[0, '2', '4', '2', '1']\n",
      "['1', '2', '4', '2', '1']\n"
     ]
    }
   ],
   "source": [
    "while True:\n",
    "    # num = sys.stdin.readline().strip()\n",
    "    num = list(input().strip())\n",
    "    if num == ['0']:\n",
    "        break\n",
    "    print(num)\n",
    "    new_num = [0] * len(num)\n",
    "    print(new_num)\n",
    "    if len(num) % 2 != 0:\n",
    "        for i in range(len(num)):\n",
    "            new_num[-(i+1)] = num[i] \n",
    "            print(new_num) "
   ]
  },
  {
   "cell_type": "code",
   "execution_count": 9,
   "id": "b2c28f3b",
   "metadata": {},
   "outputs": [
    {
     "name": "stdout",
     "output_type": "stream",
     "text": [
      "yes\n",
      "no\n",
      "yes\n"
     ]
    }
   ],
   "source": [
    "while True:\n",
    "    # num = sys.stdin.readline().strip()\n",
    "    num = list(input().strip())\n",
    "    if num == ['0']:\n",
    "        break\n",
    "\n",
    "    new_num = [0] * len(num)\n",
    "    for i in range(len(num)):\n",
    "        new_num[-(i+1)] = num[i] \n",
    "    \n",
    "    if new_num == num:\n",
    "        print(\"yes\")\n",
    "    else:\n",
    "        print(\"no\")"
   ]
  },
  {
   "cell_type": "markdown",
   "id": "0b22ad25",
   "metadata": {},
   "source": [
    "i forgot to \"import sys\", so NameError occured. Must be careful which modules are used. "
   ]
  },
  {
   "cell_type": "markdown",
   "id": "3c863a8b",
   "metadata": {},
   "source": [
    "## final answer"
   ]
  },
  {
   "cell_type": "code",
   "execution_count": null,
   "id": "cc3628c2",
   "metadata": {},
   "outputs": [],
   "source": [
    "import sys\n",
    "while True:\n",
    "    num = list(sys.stdin.readline().strip())\n",
    "    if num == ['0']:\n",
    "        break\n",
    "\n",
    "    new_num = [0] * len(num)\n",
    "    for i in range(len(num)):\n",
    "        new_num[-(i+1)] = num[i] \n",
    "    \n",
    "    if new_num == num:\n",
    "        print(\"yes\")\n",
    "    else:\n",
    "        print(\"no\")"
   ]
  }
 ],
 "metadata": {
  "kernelspec": {
   "display_name": "star",
   "language": "python",
   "name": "python3"
  },
  "language_info": {
   "codemirror_mode": {
    "name": "ipython",
    "version": 3
   },
   "file_extension": ".py",
   "mimetype": "text/x-python",
   "name": "python",
   "nbconvert_exporter": "python",
   "pygments_lexer": "ipython3",
   "version": "3.10.18"
  }
 },
 "nbformat": 4,
 "nbformat_minor": 5
}
