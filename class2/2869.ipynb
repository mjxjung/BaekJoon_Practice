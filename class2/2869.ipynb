{
 "cells": [
  {
   "cell_type": "code",
   "execution_count": null,
   "id": "ff517f8c",
   "metadata": {},
   "outputs": [],
   "source": [
    "# A, B, V = map(int, sys.stdin.readline().split())\n",
    "A, B, V = map(int, input().split())"
   ]
  },
  {
   "cell_type": "code",
   "execution_count": 2,
   "id": "70f76349",
   "metadata": {},
   "outputs": [
    {
     "name": "stdout",
     "output_type": "stream",
     "text": [
      "4\n"
     ]
    }
   ],
   "source": [
    "height = 0\n",
    "day = 1\n",
    "while height < V:\n",
    "    height += A\n",
    "    if height >= V:\n",
    "        print(day)\n",
    "    else:\n",
    "        height -= B\n",
    "        day += 1"
   ]
  },
  {
   "cell_type": "code",
   "execution_count": 3,
   "id": "3aeb0f58",
   "metadata": {},
   "outputs": [],
   "source": [
    "A, B, V = map(int, input().split())"
   ]
  },
  {
   "cell_type": "code",
   "execution_count": 4,
   "id": "103797bf",
   "metadata": {},
   "outputs": [
    {
     "name": "stdout",
     "output_type": "stream",
     "text": [
      "2\n"
     ]
    }
   ],
   "source": [
    "height = 0\n",
    "day = 1\n",
    "while height < V:\n",
    "    height += A\n",
    "    if height >= V:\n",
    "        print(day)\n",
    "    else:\n",
    "        height -= B\n",
    "        day += 1"
   ]
  },
  {
   "cell_type": "code",
   "execution_count": 5,
   "id": "b859613c",
   "metadata": {},
   "outputs": [
    {
     "name": "stdout",
     "output_type": "stream",
     "text": [
      "100 99 1000000000\n"
     ]
    },
    {
     "ename": "KeyboardInterrupt",
     "evalue": "",
     "output_type": "error",
     "traceback": [
      "\u001b[0;31m---------------------------------------------------------------------------\u001b[0m",
      "\u001b[0;31mKeyboardInterrupt\u001b[0m                         Traceback (most recent call last)",
      "Cell \u001b[0;32mIn[5], line 5\u001b[0m\n\u001b[1;32m      3\u001b[0m height \u001b[38;5;241m=\u001b[39m \u001b[38;5;241m0\u001b[39m\n\u001b[1;32m      4\u001b[0m day \u001b[38;5;241m=\u001b[39m \u001b[38;5;241m1\u001b[39m\n\u001b[0;32m----> 5\u001b[0m \u001b[38;5;28;01mwhile\u001b[39;00m height \u001b[38;5;241m<\u001b[39m V:\n\u001b[1;32m      6\u001b[0m     height \u001b[38;5;241m+\u001b[39m\u001b[38;5;241m=\u001b[39m A\n\u001b[1;32m      7\u001b[0m     \u001b[38;5;28;01mif\u001b[39;00m height \u001b[38;5;241m>\u001b[39m\u001b[38;5;241m=\u001b[39m V:\n",
      "\u001b[0;31mKeyboardInterrupt\u001b[0m: "
     ]
    }
   ],
   "source": [
    "A, B, V = map(int, input().split())\n",
    "print(A, B, V)\n",
    "height = 0\n",
    "day = 1\n",
    "while height < V:\n",
    "    height += A\n",
    "    if height >= V:\n",
    "        print(day)\n",
    "    else:\n",
    "        height -= B\n",
    "        day += 1"
   ]
  },
  {
   "cell_type": "code",
   "execution_count": 7,
   "id": "11346af0",
   "metadata": {},
   "outputs": [],
   "source": [
    "A, B, V = map(int, input().split())"
   ]
  },
  {
   "cell_type": "code",
   "execution_count": 8,
   "id": "5b91c90e",
   "metadata": {},
   "outputs": [
    {
     "ename": "KeyboardInterrupt",
     "evalue": "",
     "output_type": "error",
     "traceback": [
      "\u001b[0;31m---------------------------------------------------------------------------\u001b[0m",
      "\u001b[0;31mKeyboardInterrupt\u001b[0m                         Traceback (most recent call last)",
      "Cell \u001b[0;32mIn[8], line 5\u001b[0m\n\u001b[1;32m      3\u001b[0m \u001b[38;5;28;01mwhile\u001b[39;00m height \u001b[38;5;241m<\u001b[39m V:\n\u001b[1;32m      4\u001b[0m     height \u001b[38;5;241m+\u001b[39m\u001b[38;5;241m=\u001b[39m A\n\u001b[0;32m----> 5\u001b[0m     \u001b[38;5;28;01mif\u001b[39;00m height \u001b[38;5;241m>\u001b[39m\u001b[38;5;241m=\u001b[39m V:\n\u001b[1;32m      6\u001b[0m         \u001b[38;5;28mprint\u001b[39m(day)\n\u001b[1;32m      7\u001b[0m     \u001b[38;5;28;01melse\u001b[39;00m:\n",
      "\u001b[0;31mKeyboardInterrupt\u001b[0m: "
     ]
    }
   ],
   "source": [
    "height = 0\n",
    "day = 1\n",
    "while height < V:\n",
    "    height += A\n",
    "    if height >= V:\n",
    "        print(day)\n",
    "    else:\n",
    "        height -= B\n",
    "        day += 1"
   ]
  },
  {
   "cell_type": "code",
   "execution_count": 11,
   "id": "518e39e9",
   "metadata": {},
   "outputs": [
    {
     "name": "stdout",
     "output_type": "stream",
     "text": [
      "999999901\n"
     ]
    }
   ],
   "source": [
    "import sys\n",
    "# A, B, V = map(int, sys.stdin.readline().split())\n",
    "A, B, V = map(int, input().split())\n",
    "\n",
    "a, b = divmod(V-A, A-B)\n",
    "print(a+1)"
   ]
  },
  {
   "cell_type": "code",
   "execution_count": 10,
   "id": "e483ca3a",
   "metadata": {},
   "outputs": [
    {
     "name": "stdout",
     "output_type": "stream",
     "text": [
      "999999900 0\n"
     ]
    }
   ],
   "source": [
    "print(a, b)"
   ]
  },
  {
   "cell_type": "code",
   "execution_count": 15,
   "id": "6a1caca1",
   "metadata": {},
   "outputs": [
    {
     "name": "stdout",
     "output_type": "stream",
     "text": [
      "4 0\n"
     ]
    }
   ],
   "source": [
    "import sys\n",
    "# A, B, V = map(int, sys.stdin.readline().split())\n",
    "A, B, V = map(int, input().split())\n",
    "\n",
    "a, b = divmod(V-A, A-B)\n",
    "print(a+1, b)"
   ]
  },
  {
   "cell_type": "code",
   "execution_count": 16,
   "id": "5364d59d",
   "metadata": {},
   "outputs": [
    {
     "name": "stdout",
     "output_type": "stream",
     "text": [
      "2\n"
     ]
    }
   ],
   "source": [
    "import sys\n",
    "# A, B, V = map(int, sys.stdin.readline().split())\n",
    "A, B, V = map(int, input().split())\n",
    "\n",
    "a, b = divmod(V-A, A-B)\n",
    "print(a+b+1)"
   ]
  },
  {
   "cell_type": "code",
   "execution_count": 17,
   "id": "65fdd3ec",
   "metadata": {},
   "outputs": [
    {
     "name": "stdout",
     "output_type": "stream",
     "text": [
      "999999901\n"
     ]
    }
   ],
   "source": [
    "import sys\n",
    "# A, B, V = map(int, sys.stdin.readline().split())\n",
    "A, B, V = map(int, input().split())\n",
    "\n",
    "a, b = divmod(V-A, A-B)\n",
    "print(a+b+1)"
   ]
  },
  {
   "cell_type": "code",
   "execution_count": 18,
   "id": "d800e713",
   "metadata": {},
   "outputs": [
    {
     "name": "stdout",
     "output_type": "stream",
     "text": [
      "4\n"
     ]
    }
   ],
   "source": [
    "import sys\n",
    "# A, B, V = map(int, sys.stdin.readline().split())\n",
    "A, B, V = map(int, input().split())\n",
    "\n",
    "a, b = divmod(V-A, A-B)\n",
    "print(a+b+1)"
   ]
  },
  {
   "cell_type": "code",
   "execution_count": null,
   "id": "66724fcd",
   "metadata": {},
   "outputs": [],
   "source": []
  }
 ],
 "metadata": {
  "kernelspec": {
   "display_name": "star",
   "language": "python",
   "name": "python3"
  },
  "language_info": {
   "codemirror_mode": {
    "name": "ipython",
    "version": 3
   },
   "file_extension": ".py",
   "mimetype": "text/x-python",
   "name": "python",
   "nbconvert_exporter": "python",
   "pygments_lexer": "ipython3",
   "version": "3.10.18"
  }
 },
 "nbformat": 4,
 "nbformat_minor": 5
}
