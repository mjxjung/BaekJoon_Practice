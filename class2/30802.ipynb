{
 "cells": [
  {
   "cell_type": "code",
   "execution_count": 4,
   "id": "c53174ac",
   "metadata": {},
   "outputs": [],
   "source": [
    "N = int(input())\n",
    "# a, b, c, d, e, f = map(int, input().split())\n",
    "S, M, L, XL, XXL, XXXL = map(int, input().split())\n",
    "T, P = map(int, input().split())"
   ]
  },
  {
   "cell_type": "code",
   "execution_count": 1,
   "id": "73e1f4ad",
   "metadata": {},
   "outputs": [],
   "source": [
    "# 티셔츠는 남아도 되지만 부족해서는 안 되고 신청한 사이즈대로 나눠주어야 합니다. 펜은 남거나 부족해서는 안 되고 정확히 참가자 수만큼 준비되어야 합니다.\n",
    "\n",
    "# 티셔츠를 T장씩 최소 몇 묶음 주문해야 하는지, 그리고 펜을 \n",
    "# $P$자루씩 최대 몇 묶음 주문할 수 있고, 그 때 펜을 한 자루씩 몇 개 주문하는지 구하세요."
   ]
  },
  {
   "cell_type": "code",
   "execution_count": null,
   "id": "67cd1c59",
   "metadata": {},
   "outputs": [],
   "source": [
    "# 정수 티셔츠와 펜의 묶음 수를 의미하는 정수 \n",
    "# $T$와 \n",
    "# $P$가 공백으로 구분되어 주어집니다"
   ]
  },
  {
   "cell_type": "code",
   "execution_count": 6,
   "id": "a75eca3a",
   "metadata": {},
   "outputs": [
    {
     "name": "stdout",
     "output_type": "stream",
     "text": [
      "7\n",
      "3 2\n"
     ]
    }
   ],
   "source": [
    "import math\n",
    "# 티셔츠 묶음 수 계산\n",
    "# 각 사이즈별 필요한 티셔츠 수를 T로 나눈 몫을 올림하여 더함\n",
    "tshirt_bundles = math.ceil(S / T) + math.ceil(M / T) + math.ceil(L / T) + math.ceil(XL / T) + math.ceil(XXL / T) + math.ceil(XXXL / T)\n",
    "\n",
    "# 펜 묶음 수와 남은 펜 수 계산\n",
    "pen_bundles = N // P  # 최대 펜 묶음 수\n",
    "remaining_pens = N % P  # 남은 펜 수\n",
    "\n",
    "# 결과 출력\n",
    "print(tshirt_bundles)\n",
    "print(pen_bundles, remaining_pens)"
   ]
  },
  {
   "cell_type": "markdown",
   "id": "f88af7cb",
   "metadata": {},
   "source": [
    "- math.ceil() 함수는 주어진 숫자보다 크거나 같은 가장 작은 정수를 반환하는 함수\n",
    "- 올림 함수, 내림 함수."
   ]
  },
  {
   "cell_type": "code",
   "execution_count": null,
   "id": "e3032251",
   "metadata": {},
   "outputs": [],
   "source": []
  },
  {
   "cell_type": "markdown",
   "id": "f1f326ef",
   "metadata": {},
   "source": []
  }
 ],
 "metadata": {
  "kernelspec": {
   "display_name": "star",
   "language": "python",
   "name": "python3"
  },
  "language_info": {
   "codemirror_mode": {
    "name": "ipython",
    "version": 3
   },
   "file_extension": ".py",
   "mimetype": "text/x-python",
   "name": "python",
   "nbconvert_exporter": "python",
   "pygments_lexer": "ipython3",
   "version": "3.10.18"
  }
 },
 "nbformat": 4,
 "nbformat_minor": 5
}
