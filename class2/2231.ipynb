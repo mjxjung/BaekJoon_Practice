{
 "cells": [
  {
   "cell_type": "code",
   "execution_count": 2,
   "id": "7d47ab79",
   "metadata": {},
   "outputs": [],
   "source": [
    "N = input()\n",
    "digit_sum = 0\n",
    "for n in N:\n",
    "    digit_sum += int(n)\n",
    "    "
   ]
  },
  {
   "cell_type": "code",
   "execution_count": 3,
   "id": "ba77b3cf",
   "metadata": {},
   "outputs": [
    {
     "data": {
      "text/plain": [
       "9"
      ]
     },
     "execution_count": 3,
     "metadata": {},
     "output_type": "execute_result"
    }
   ],
   "source": [
    "digit_sum"
   ]
  },
  {
   "cell_type": "code",
   "execution_count": 6,
   "id": "c98c9268",
   "metadata": {},
   "outputs": [],
   "source": [
    "import sys\n",
    "\n",
    "# N = int(sys.stdin.readline())\n",
    "N = int(input())"
   ]
  },
  {
   "cell_type": "code",
   "execution_count": 7,
   "id": "dc73fc90",
   "metadata": {},
   "outputs": [
    {
     "name": "stdout",
     "output_type": "stream",
     "text": [
      "198\n"
     ]
    }
   ],
   "source": [
    "# M의 시작 후보 범위\n",
    "start = max(1, N - 9 * len(str(N)))\n",
    "\n",
    "result = 0\n",
    "for M in range(start, N):\n",
    "    if M + sum(map(int, str(M))) == N:\n",
    "        result = M\n",
    "        break\n",
    "\n",
    "print(result)"
   ]
  },
  {
   "cell_type": "markdown",
   "id": "e901db6c",
   "metadata": {},
   "source": [
    "- 예외처리가 중요했음"
   ]
  },
  {
   "cell_type": "markdown",
   "id": "45077d84",
   "metadata": {},
   "source": []
  }
 ],
 "metadata": {
  "kernelspec": {
   "display_name": "star",
   "language": "python",
   "name": "python3"
  },
  "language_info": {
   "codemirror_mode": {
    "name": "ipython",
    "version": 3
   },
   "file_extension": ".py",
   "mimetype": "text/x-python",
   "name": "python",
   "nbconvert_exporter": "python",
   "pygments_lexer": "ipython3",
   "version": "3.10.18"
  }
 },
 "nbformat": 4,
 "nbformat_minor": 5
}
