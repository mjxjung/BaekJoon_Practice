{
 "cells": [
  {
   "cell_type": "code",
   "execution_count": 9,
   "id": "864389e6",
   "metadata": {},
   "outputs": [],
   "source": [
    "K = int(input())"
   ]
  },
  {
   "cell_type": "code",
   "execution_count": 10,
   "id": "ac9486db",
   "metadata": {},
   "outputs": [
    {
     "name": "stdout",
     "output_type": "stream",
     "text": [
      "4\n",
      "5\n",
      "7\n",
      "3\n"
     ]
    }
   ],
   "source": [
    "lst = []\n",
    "for i in range(K):\n",
    "    a = int(input())\n",
    "    if a == 0:\n",
    "        b = lst.pop()\n",
    "        print(b)\n",
    "    else:\n",
    "        lst.append(a)"
   ]
  },
  {
   "cell_type": "code",
   "execution_count": 11,
   "id": "836058b7",
   "metadata": {},
   "outputs": [
    {
     "data": {
      "text/plain": [
       "[1, 6]"
      ]
     },
     "execution_count": 11,
     "metadata": {},
     "output_type": "execute_result"
    }
   ],
   "source": [
    "lst"
   ]
  },
  {
   "cell_type": "code",
   "execution_count": 12,
   "id": "d9ab8582",
   "metadata": {},
   "outputs": [],
   "source": [
    "total = 0\n",
    "for i in lst:\n",
    "    total += i"
   ]
  },
  {
   "cell_type": "code",
   "execution_count": 13,
   "id": "a16bab27",
   "metadata": {},
   "outputs": [
    {
     "name": "stdout",
     "output_type": "stream",
     "text": [
      "7\n"
     ]
    }
   ],
   "source": [
    "print(total)"
   ]
  },
  {
   "cell_type": "markdown",
   "id": "9907be1e",
   "metadata": {},
   "source": [
    "- input()을 쓰는 거랑 sys.stdin.readline()을 사용하는 것의 차이가 2476ms랑 76ms 차이나 났다.\n",
    "- 웬만해서는 sys.stdin.readline()을 쓰는 게 나을 듯"
   ]
  },
  {
   "cell_type": "markdown",
   "id": "ea42df8c",
   "metadata": {},
   "source": [
    "## 11651 \n"
   ]
  },
  {
   "cell_type": "markdown",
   "id": "07a9413a",
   "metadata": {},
   "source": [
    "T = int(input())"
   ]
  },
  {
   "cell_type": "code",
   "execution_count": 14,
   "id": "195c0414",
   "metadata": {},
   "outputs": [],
   "source": [
    "T = int(input())"
   ]
  },
  {
   "cell_type": "code",
   "execution_count": 18,
   "id": "4b48de67",
   "metadata": {},
   "outputs": [],
   "source": [
    "lst = []\n",
    "for i in range(T):\n",
    "    x, y = map(int, input().split())\n",
    "    lst.append([x, y])"
   ]
  },
  {
   "cell_type": "code",
   "execution_count": 19,
   "id": "df166b76",
   "metadata": {},
   "outputs": [
    {
     "data": {
      "text/plain": [
       "[[0, 4], [1, 2], [1, -1], [2, 2], [3, 3]]"
      ]
     },
     "execution_count": 19,
     "metadata": {},
     "output_type": "execute_result"
    }
   ],
   "source": [
    "lst"
   ]
  },
  {
   "cell_type": "code",
   "execution_count": 20,
   "id": "18574f92",
   "metadata": {},
   "outputs": [
    {
     "name": "stdout",
     "output_type": "stream",
     "text": [
      "[[0, 4], [1, 2], [1, -1], [2, 2], [3, 3]]\n"
     ]
    }
   ],
   "source": [
    "a = lst\n",
    "print(a)"
   ]
  },
  {
   "cell_type": "code",
   "execution_count": 21,
   "id": "638ee8c9",
   "metadata": {},
   "outputs": [],
   "source": [
    "a.sort()"
   ]
  },
  {
   "cell_type": "code",
   "execution_count": 22,
   "id": "75a2d5c8",
   "metadata": {},
   "outputs": [
    {
     "data": {
      "text/plain": [
       "[[0, 4], [1, -1], [1, 2], [2, 2], [3, 3]]"
      ]
     },
     "execution_count": 22,
     "metadata": {},
     "output_type": "execute_result"
    }
   ],
   "source": [
    "a"
   ]
  },
  {
   "cell_type": "code",
   "execution_count": 23,
   "id": "e76983da",
   "metadata": {},
   "outputs": [
    {
     "name": "stdout",
     "output_type": "stream",
     "text": [
      "4 0\n",
      "-1 1\n",
      "2 1\n",
      "2 2\n",
      "3 3\n"
     ]
    }
   ],
   "source": [
    "for i in range(T):\n",
    "    print(a[i][1], a[i][0])"
   ]
  },
  {
   "cell_type": "code",
   "execution_count": null,
   "id": "12c35c24",
   "metadata": {},
   "outputs": [],
   "source": []
  }
 ],
 "metadata": {
  "kernelspec": {
   "display_name": "star",
   "language": "python",
   "name": "python3"
  },
  "language_info": {
   "codemirror_mode": {
    "name": "ipython",
    "version": 3
   },
   "file_extension": ".py",
   "mimetype": "text/x-python",
   "name": "python",
   "nbconvert_exporter": "python",
   "pygments_lexer": "ipython3",
   "version": "3.10.18"
  }
 },
 "nbformat": 4,
 "nbformat_minor": 5
}
