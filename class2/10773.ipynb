{
 "cells": [
  {
   "cell_type": "code",
   "execution_count": 9,
   "id": "864389e6",
   "metadata": {},
   "outputs": [],
   "source": [
    "K = int(input())"
   ]
  },
  {
   "cell_type": "code",
   "execution_count": 10,
   "id": "ac9486db",
   "metadata": {},
   "outputs": [
    {
     "name": "stdout",
     "output_type": "stream",
     "text": [
      "4\n",
      "5\n",
      "7\n",
      "3\n"
     ]
    }
   ],
   "source": [
    "lst = []\n",
    "for i in range(K):\n",
    "    a = int(input())\n",
    "    if a == 0:\n",
    "        b = lst.pop()\n",
    "        print(b)\n",
    "    else:\n",
    "        lst.append(a)"
   ]
  },
  {
   "cell_type": "code",
   "execution_count": 11,
   "id": "836058b7",
   "metadata": {},
   "outputs": [
    {
     "data": {
      "text/plain": [
       "[1, 6]"
      ]
     },
     "execution_count": 11,
     "metadata": {},
     "output_type": "execute_result"
    }
   ],
   "source": [
    "lst"
   ]
  },
  {
   "cell_type": "code",
   "execution_count": 12,
   "id": "d9ab8582",
   "metadata": {},
   "outputs": [],
   "source": [
    "total = 0\n",
    "for i in lst:\n",
    "    total += i"
   ]
  },
  {
   "cell_type": "code",
   "execution_count": 13,
   "id": "a16bab27",
   "metadata": {},
   "outputs": [
    {
     "name": "stdout",
     "output_type": "stream",
     "text": [
      "7\n"
     ]
    }
   ],
   "source": [
    "print(total)"
   ]
  },
  {
   "cell_type": "markdown",
   "id": "9907be1e",
   "metadata": {},
   "source": [
    "- input()을 쓰는 거랑 sys.stdin.readline()을 사용하는 것의 차이가 2476ms랑 76ms 차이나 났다.\n",
    "- 웬만해서는 sys.stdin.readline()을 쓰는 게 나을 듯"
   ]
  },
  {
   "cell_type": "markdown",
   "id": "ea42df8c",
   "metadata": {},
   "source": []
  }
 ],
 "metadata": {
  "kernelspec": {
   "display_name": "star",
   "language": "python",
   "name": "python3"
  },
  "language_info": {
   "codemirror_mode": {
    "name": "ipython",
    "version": 3
   },
   "file_extension": ".py",
   "mimetype": "text/x-python",
   "name": "python",
   "nbconvert_exporter": "python",
   "pygments_lexer": "ipython3",
   "version": "3.10.18"
  }
 },
 "nbformat": 4,
 "nbformat_minor": 5
}
