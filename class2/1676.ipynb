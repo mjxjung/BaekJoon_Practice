{
 "cells": [
  {
   "cell_type": "code",
   "execution_count": 1,
   "id": "9cdb1297",
   "metadata": {},
   "outputs": [],
   "source": [
    "def factorial(n):\n",
    "    answ = 1\n",
    "    for i in range(1, n+1):\n",
    "        answ *= i\n",
    "    return answ"
   ]
  },
  {
   "cell_type": "code",
   "execution_count": 2,
   "id": "69f5fae7",
   "metadata": {},
   "outputs": [],
   "source": [
    "N = int(input())"
   ]
  },
  {
   "cell_type": "code",
   "execution_count": 5,
   "id": "3afc5afd",
   "metadata": {},
   "outputs": [],
   "source": [
    "result = str(factorial(N))"
   ]
  },
  {
   "cell_type": "code",
   "execution_count": 6,
   "id": "3c3ad793",
   "metadata": {},
   "outputs": [
    {
     "name": "stdout",
     "output_type": "stream",
     "text": [
      "3628800\n"
     ]
    }
   ],
   "source": [
    "print(result)"
   ]
  },
  {
   "cell_type": "code",
   "execution_count": 13,
   "id": "bd581dc4",
   "metadata": {},
   "outputs": [],
   "source": [
    "def find_zero(s):\n",
    "    i = 1\n",
    "    while i <= len(s):\n",
    "        if s[-i] == '0':\n",
    "            return i+1\n",
    "        else:\n",
    "            i += 1\n",
    "    return 0"
   ]
  },
  {
   "cell_type": "code",
   "execution_count": 14,
   "id": "357441de",
   "metadata": {},
   "outputs": [
    {
     "data": {
      "text/plain": [
       "2"
      ]
     },
     "execution_count": 14,
     "metadata": {},
     "output_type": "execute_result"
    }
   ],
   "source": [
    "find_zero(result)"
   ]
  },
  {
   "cell_type": "code",
   "execution_count": 15,
   "id": "4f3dd56d",
   "metadata": {},
   "outputs": [],
   "source": [
    "re3 = factorial(3)"
   ]
  },
  {
   "cell_type": "code",
   "execution_count": 16,
   "id": "52227714",
   "metadata": {},
   "outputs": [
    {
     "data": {
      "text/plain": [
       "0"
      ]
     },
     "execution_count": 16,
     "metadata": {},
     "output_type": "execute_result"
    }
   ],
   "source": [
    "find_zero(str(re3))"
   ]
  },
  {
   "cell_type": "code",
   "execution_count": 21,
   "id": "bb7f289c",
   "metadata": {},
   "outputs": [
    {
     "name": "stdout",
     "output_type": "stream",
     "text": [
      "0\n"
     ]
    }
   ],
   "source": [
    "def factorial(n):\n",
    "    answ = 1\n",
    "    for i in range(1, n+1):\n",
    "        answ *= i\n",
    "    return answ\n",
    "\n",
    "N = int(input())\n",
    "result = str(factorial(N))\n",
    "\n",
    "def find_zero(s):\n",
    "    i = 1\n",
    "    while i <= len(s):\n",
    "        if s[-i] != '0':\n",
    "            return i-1\n",
    "        else:\n",
    "            i += 1\n",
    "    return 0\n",
    "\n",
    "print(find_zero(result))"
   ]
  },
  {
   "cell_type": "code",
   "execution_count": null,
   "id": "cb45a2f3",
   "metadata": {},
   "outputs": [],
   "source": []
  }
 ],
 "metadata": {
  "kernelspec": {
   "display_name": "star",
   "language": "python",
   "name": "python3"
  },
  "language_info": {
   "codemirror_mode": {
    "name": "ipython",
    "version": 3
   },
   "file_extension": ".py",
   "mimetype": "text/x-python",
   "name": "python",
   "nbconvert_exporter": "python",
   "pygments_lexer": "ipython3",
   "version": "3.10.18"
  }
 },
 "nbformat": 4,
 "nbformat_minor": 5
}
