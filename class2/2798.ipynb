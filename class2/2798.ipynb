{
 "cells": [
  {
   "cell_type": "code",
   "execution_count": 58,
   "id": "7c1716a3",
   "metadata": {},
   "outputs": [],
   "source": [
    "N, M = map(int, input().split())"
   ]
  },
  {
   "cell_type": "code",
   "execution_count": 59,
   "id": "730be3d5",
   "metadata": {},
   "outputs": [],
   "source": [
    "cards = input().split()"
   ]
  },
  {
   "cell_type": "code",
   "execution_count": 38,
   "id": "a5b32291",
   "metadata": {},
   "outputs": [
    {
     "data": {
      "text/plain": [
       "['5', '6', '7', '8', '9']"
      ]
     },
     "execution_count": 38,
     "metadata": {},
     "output_type": "execute_result"
    }
   ],
   "source": [
    "cards"
   ]
  },
  {
   "cell_type": "code",
   "execution_count": 60,
   "id": "f74a12c8",
   "metadata": {},
   "outputs": [],
   "source": [
    "for i in range(N):\n",
    "    cards[i] = int(cards[i])"
   ]
  },
  {
   "cell_type": "code",
   "execution_count": 61,
   "id": "492d39b6",
   "metadata": {},
   "outputs": [
    {
     "data": {
      "text/plain": [
       "[93, 181, 245, 214, 315, 36, 185, 138, 216, 295]"
      ]
     },
     "execution_count": 61,
     "metadata": {},
     "output_type": "execute_result"
    }
   ],
   "source": [
    "cards"
   ]
  },
  {
   "cell_type": "code",
   "execution_count": 41,
   "id": "ade07a93",
   "metadata": {},
   "outputs": [
    {
     "data": {
      "text/plain": [
       "9"
      ]
     },
     "execution_count": 41,
     "metadata": {},
     "output_type": "execute_result"
    }
   ],
   "source": [
    "max(cards)"
   ]
  },
  {
   "cell_type": "code",
   "execution_count": 42,
   "id": "6784c640",
   "metadata": {},
   "outputs": [
    {
     "data": {
      "text/plain": [
       "[5, 6, 7, 8, 9]"
      ]
     },
     "execution_count": 42,
     "metadata": {},
     "output_type": "execute_result"
    }
   ],
   "source": [
    "b = cards.sort() # 그 리스트 자체를 바꿔버림.\n",
    "b = sorted(cards)\n",
    "b"
   ]
  },
  {
   "cell_type": "code",
   "execution_count": 43,
   "id": "f0645da4",
   "metadata": {},
   "outputs": [
    {
     "data": {
      "text/plain": [
       "[5, 6, 7, 8, 9]"
      ]
     },
     "execution_count": 43,
     "metadata": {},
     "output_type": "execute_result"
    }
   ],
   "source": [
    "cards"
   ]
  },
  {
   "cell_type": "code",
   "execution_count": 62,
   "id": "0b763a9f",
   "metadata": {},
   "outputs": [
    {
     "data": {
      "text/plain": [
       "[315, 295, 245, 216, 214, 185, 181, 138, 93, 36]"
      ]
     },
     "execution_count": 62,
     "metadata": {},
     "output_type": "execute_result"
    }
   ],
   "source": [
    "cards.sort(reverse=True)\n",
    "cards"
   ]
  },
  {
   "cell_type": "code",
   "execution_count": null,
   "id": "69ddd7da",
   "metadata": {},
   "outputs": [],
   "source": [
    "def find_closest():\n",
    "    total = 0\n",
    "    selected_card = 0\n",
    "    while selected_card < 3:\n",
    "        for card in cards:\n",
    "            total += card\n",
    "            if total > M:\n",
    "                total -= card\n",
    "                continue\n",
    "            elif total == M:\n",
    "            elif total < M:\n",
    "                \n",
    "                print(total)\n",
    "                pass\n",
    "\n"
   ]
  },
  {
   "cell_type": "code",
   "execution_count": 22,
   "id": "0064f2cf",
   "metadata": {},
   "outputs": [
    {
     "name": "stdout",
     "output_type": "stream",
     "text": [
      "9\n",
      "17\n"
     ]
    }
   ],
   "source": [
    "find_closest()"
   ]
  },
  {
   "cell_type": "code",
   "execution_count": 28,
   "id": "e5b25428",
   "metadata": {},
   "outputs": [],
   "source": [
    "cards = [23, 22, 21, 20, 19]"
   ]
  },
  {
   "cell_type": "code",
   "execution_count": 33,
   "id": "4a6238c1",
   "metadata": {},
   "outputs": [
    {
     "name": "stdout",
     "output_type": "stream",
     "text": [
      "23\n",
      "22\n",
      "21\n",
      "3\n"
     ]
    }
   ],
   "source": [
    "for i in range(N):\n",
    "    if cards[i] >= M:\n",
    "        print(cards[i])\n",
    "        continue\n",
    "        print(\"oops\")\n",
    "    else:\n",
    "        print(i)\n",
    "        start_idx = i\n",
    "        break"
   ]
  },
  {
   "cell_type": "code",
   "execution_count": 45,
   "id": "8ab58896",
   "metadata": {},
   "outputs": [
    {
     "data": {
      "text/plain": [
       "[9, 8, 7, 6, 5]"
      ]
     },
     "execution_count": 45,
     "metadata": {},
     "output_type": "execute_result"
    }
   ],
   "source": [
    "cards"
   ]
  },
  {
   "cell_type": "code",
   "execution_count": 63,
   "id": "6a47e74b",
   "metadata": {},
   "outputs": [
    {
     "name": "stdout",
     "output_type": "stream",
     "text": [
      "0\n"
     ]
    }
   ],
   "source": [
    "for i in range(N):\n",
    "    if cards[i] >= M:\n",
    "        print(cards[i])\n",
    "        continue\n",
    "        print(\"oops\")\n",
    "    else:\n",
    "        print(i)\n",
    "        start_idx = i\n",
    "        break"
   ]
  },
  {
   "cell_type": "code",
   "execution_count": 65,
   "id": "f0bdf9db",
   "metadata": {},
   "outputs": [],
   "source": [
    "# i = start_idx\n",
    "# j = start_idx + 1\n",
    "# k = start_idx + 2\n",
    "def check_run(start_idx):\n",
    "    keep = []\n",
    "    for i in range(start_idx, N):\n",
    "        first_num = cards[i]\n",
    "        for j in range(i+1, N):\n",
    "            second_num = cards[j]\n",
    "            for k in range(j+1, N):\n",
    "                third_num = cards[k]\n",
    "\n",
    "                total = first_num + second_num + third_num\n",
    "                diff = total - M\n",
    "\n",
    "                if diff == 0:\n",
    "                    print(keep)\n",
    "                    return total\n",
    "                elif diff > 0:\n",
    "                    continue\n",
    "                elif diff < 0:\n",
    "                    try:\n",
    "                        a = keep.pop(0)\n",
    "                        if a < diff:\n",
    "                            keep.append(diff) \n",
    "                        else:\n",
    "                            keep.append(a)\n",
    "                    except:\n",
    "                        keep.append(diff)\n",
    "    print(keep)\n",
    "    return keep[0]"
   ]
  },
  {
   "cell_type": "code",
   "execution_count": null,
   "id": "a76e4c8b",
   "metadata": {},
   "outputs": [
    {
     "name": "stdout",
     "output_type": "stream",
     "text": [
      "[-3]\n"
     ]
    },
    {
     "data": {
      "text/plain": [
       "-3"
      ]
     },
     "execution_count": 66,
     "metadata": {},
     "output_type": "execute_result"
    }
   ],
   "source": [
    "check_run(start_idx)"
   ]
  },
  {
   "cell_type": "code",
   "execution_count": null,
   "id": "96a4d378",
   "metadata": {},
   "outputs": [
    {
     "ename": "NameError",
     "evalue": "name 'keep' is not defined",
     "output_type": "error",
     "traceback": [
      "\u001b[0;31m---------------------------------------------------------------------------\u001b[0m",
      "\u001b[0;31mNameError\u001b[0m                                 Traceback (most recent call last)",
      "Cell \u001b[0;32mIn[53], line 1\u001b[0m\n\u001b[0;32m----> 1\u001b[0m \u001b[38;5;28mprint\u001b[39m(\u001b[43mkeep\u001b[49m)\n",
      "\u001b[0;31mNameError\u001b[0m: name 'keep' is not defined"
     ]
    }
   ],
   "source": [
    "print(keep)"
   ]
  },
  {
   "cell_type": "code",
   "execution_count": 69,
   "id": "99034e07",
   "metadata": {},
   "outputs": [
    {
     "name": "stdout",
     "output_type": "stream",
     "text": [
      "[-3]\n"
     ]
    }
   ],
   "source": [
    "answ = M + check_run(start_idx)"
   ]
  },
  {
   "cell_type": "code",
   "execution_count": 70,
   "id": "6e3b89e7",
   "metadata": {},
   "outputs": [
    {
     "name": "stdout",
     "output_type": "stream",
     "text": [
      "497\n"
     ]
    }
   ],
   "source": [
    "print(answ)"
   ]
  },
  {
   "cell_type": "code",
   "execution_count": 71,
   "id": "4e811675",
   "metadata": {},
   "outputs": [
    {
     "name": "stdout",
     "output_type": "stream",
     "text": [
      "497\n"
     ]
    }
   ],
   "source": [
    "import sys\n",
    "# N, M = map(int, sys.stdin.readline().split())\n",
    "# cards = sys.stdin.readline().split()\n",
    "\n",
    "for i in range(N):\n",
    "    cards[i] = int(cards[i])\n",
    "    \n",
    "for i in range(N):\n",
    "    if cards[i] >= M:\n",
    "        continue\n",
    "    else:\n",
    "        start_idx = i\n",
    "        break\n",
    "        \n",
    "def check_run(start_idx):\n",
    "    keep = []\n",
    "    for i in range(start_idx, N):\n",
    "        first_num = cards[i]\n",
    "        for j in range(i+1, N):\n",
    "            second_num = cards[j]\n",
    "            for k in range(j+1, N):\n",
    "                third_num = cards[k]\n",
    "\n",
    "                total = first_num + second_num + third_num\n",
    "                diff = total - M\n",
    "\n",
    "                if diff == 0:\n",
    "                    return 0\n",
    "                elif diff > 0:\n",
    "                    continue\n",
    "                elif diff < 0:\n",
    "                    try:\n",
    "                        a = keep.pop(0)\n",
    "                        if a < diff:\n",
    "                            keep.append(diff) \n",
    "                        else:\n",
    "                            keep.append(a)\n",
    "                    except:\n",
    "                        keep.append(diff)\n",
    "    return keep[0]\n",
    "\n",
    "print(M + check_run(start_idx))"
   ]
  },
  {
   "cell_type": "markdown",
   "id": "a246d7a6",
   "metadata": {},
   "source": [
    "- return 형식을 맞춰주지 않아서 오류 남\n",
    "- 좀 더 코드를 간추릴 수 있을 것 같음"
   ]
  },
  {
   "cell_type": "markdown",
   "id": "96c1a67c",
   "metadata": {},
   "source": []
  }
 ],
 "metadata": {
  "kernelspec": {
   "display_name": "star",
   "language": "python",
   "name": "python3"
  },
  "language_info": {
   "codemirror_mode": {
    "name": "ipython",
    "version": 3
   },
   "file_extension": ".py",
   "mimetype": "text/x-python",
   "name": "python",
   "nbconvert_exporter": "python",
   "pygments_lexer": "ipython3",
   "version": "3.10.18"
  }
 },
 "nbformat": 4,
 "nbformat_minor": 5
}
