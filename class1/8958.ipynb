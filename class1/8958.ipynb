{
 "cells": [
  {
   "cell_type": "code",
   "execution_count": 7,
   "id": "a1f60e38",
   "metadata": {},
   "outputs": [],
   "source": [
    "T = int(input())\n",
    "for i in range(T):\n",
    "    pass"
   ]
  },
  {
   "cell_type": "code",
   "execution_count": null,
   "id": "e2a546fd",
   "metadata": {},
   "outputs": [],
   "source": [
    "import sys\n",
    "# s = sys.stdin.readline()\n",
    "s = input()"
   ]
  },
  {
   "cell_type": "code",
   "execution_count": null,
   "id": "5bcdca5e",
   "metadata": {},
   "outputs": [],
   "source": [
    "#         "
   ]
  },
  {
   "cell_type": "code",
   "execution_count": 8,
   "id": "5d4240e8",
   "metadata": {},
   "outputs": [],
   "source": [
    "def check(s):\n",
    "    total = incr = 0\n",
    "    for ch in s:\n",
    "        if ch == \"O\":\n",
    "            incr += 1\n",
    "            total += incr\n",
    "            print(total)\n",
    "        elif ch == \"X\":\n",
    "            incr = 0\n",
    "    return total"
   ]
  },
  {
   "cell_type": "code",
   "execution_count": 9,
   "id": "3bdfa2d7",
   "metadata": {},
   "outputs": [
    {
     "name": "stdout",
     "output_type": "stream",
     "text": [
      "1\n",
      "3\n",
      "4\n",
      "5\n",
      "7\n",
      "10\n",
      "10\n"
     ]
    }
   ],
   "source": [
    "print(check(\"OOXXOXXOOO\"))"
   ]
  },
  {
   "cell_type": "code",
   "execution_count": 11,
   "id": "61f3ef44",
   "metadata": {},
   "outputs": [
    {
     "name": "stdout",
     "output_type": "stream",
     "text": [
      "1\n",
      "3\n",
      "4\n",
      "5\n",
      "7\n",
      "10\n",
      "10\n",
      "0\n",
      "0\n",
      "0\n",
      "0\n"
     ]
    }
   ],
   "source": [
    "import sys\n",
    "def check(s):\n",
    "    total = incr = 0\n",
    "    for ch in s:\n",
    "        if ch == \"O\":\n",
    "            incr += 1\n",
    "            total += incr\n",
    "            print(total)\n",
    "        elif ch == \"X\":\n",
    "            incr = 0\n",
    "    return total\n",
    "\n",
    "T = int(input())\n",
    "for i in range(T):\n",
    "    # s = sys.stdin.readline()\n",
    "    s = input()\n",
    "    print(check(s))"
   ]
  },
  {
   "cell_type": "code",
   "execution_count": null,
   "id": "6675be4e",
   "metadata": {},
   "outputs": [],
   "source": [
    "## 출력하는 코드를 안 제거해서 출력초과 오류..."
   ]
  }
 ],
 "metadata": {
  "kernelspec": {
   "display_name": "star",
   "language": "python",
   "name": "python3"
  },
  "language_info": {
   "codemirror_mode": {
    "name": "ipython",
    "version": 3
   },
   "file_extension": ".py",
   "mimetype": "text/x-python",
   "name": "python",
   "nbconvert_exporter": "python",
   "pygments_lexer": "ipython3",
   "version": "3.10.18"
  }
 },
 "nbformat": 4,
 "nbformat_minor": 5
}
