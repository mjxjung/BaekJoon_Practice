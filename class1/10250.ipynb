{
 "cells": [
  {
   "cell_type": "code",
   "execution_count": null,
   "id": "d2d54222",
   "metadata": {},
   "outputs": [],
   "source": [
    "## input \n",
    "# 2\n",
    "# 6 12 10\n",
    "# 30 50 72\n",
    "\n",
    "# hotel by H x W"
   ]
  },
  {
   "cell_type": "code",
   "execution_count": 6,
   "id": "8eef13bf",
   "metadata": {},
   "outputs": [
    {
     "name": "stdout",
     "output_type": "stream",
     "text": [
      "Requirement already satisfied: ipywidgets in /opt/anaconda3/envs/star/lib/python3.10/site-packages (8.1.7)\n",
      "Requirement already satisfied: comm>=0.1.3 in /opt/anaconda3/envs/star/lib/python3.10/site-packages (from ipywidgets) (0.2.2)\n",
      "Requirement already satisfied: ipython>=6.1.0 in /opt/anaconda3/envs/star/lib/python3.10/site-packages (from ipywidgets) (8.37.0)\n",
      "Requirement already satisfied: traitlets>=4.3.1 in /opt/anaconda3/envs/star/lib/python3.10/site-packages (from ipywidgets) (5.14.3)\n",
      "Requirement already satisfied: widgetsnbextension~=4.0.14 in /opt/anaconda3/envs/star/lib/python3.10/site-packages (from ipywidgets) (4.0.14)\n",
      "Requirement already satisfied: jupyterlab_widgets~=3.0.15 in /opt/anaconda3/envs/star/lib/python3.10/site-packages (from ipywidgets) (3.0.15)\n",
      "Requirement already satisfied: decorator in /opt/anaconda3/envs/star/lib/python3.10/site-packages (from ipython>=6.1.0->ipywidgets) (5.2.1)\n",
      "Requirement already satisfied: exceptiongroup in /opt/anaconda3/envs/star/lib/python3.10/site-packages (from ipython>=6.1.0->ipywidgets) (1.3.0)\n",
      "Requirement already satisfied: jedi>=0.16 in /opt/anaconda3/envs/star/lib/python3.10/site-packages (from ipython>=6.1.0->ipywidgets) (0.19.2)\n",
      "Requirement already satisfied: matplotlib-inline in /opt/anaconda3/envs/star/lib/python3.10/site-packages (from ipython>=6.1.0->ipywidgets) (0.1.7)\n",
      "Requirement already satisfied: pexpect>4.3 in /opt/anaconda3/envs/star/lib/python3.10/site-packages (from ipython>=6.1.0->ipywidgets) (4.9.0)\n",
      "Requirement already satisfied: prompt_toolkit<3.1.0,>=3.0.41 in /opt/anaconda3/envs/star/lib/python3.10/site-packages (from ipython>=6.1.0->ipywidgets) (3.0.51)\n",
      "Requirement already satisfied: pygments>=2.4.0 in /opt/anaconda3/envs/star/lib/python3.10/site-packages (from ipython>=6.1.0->ipywidgets) (2.19.2)\n",
      "Requirement already satisfied: stack_data in /opt/anaconda3/envs/star/lib/python3.10/site-packages (from ipython>=6.1.0->ipywidgets) (0.6.3)\n",
      "Requirement already satisfied: typing_extensions>=4.6 in /opt/anaconda3/envs/star/lib/python3.10/site-packages (from ipython>=6.1.0->ipywidgets) (4.14.1)\n",
      "Requirement already satisfied: wcwidth in /opt/anaconda3/envs/star/lib/python3.10/site-packages (from prompt_toolkit<3.1.0,>=3.0.41->ipython>=6.1.0->ipywidgets) (0.2.13)\n",
      "Requirement already satisfied: parso<0.9.0,>=0.8.4 in /opt/anaconda3/envs/star/lib/python3.10/site-packages (from jedi>=0.16->ipython>=6.1.0->ipywidgets) (0.8.4)\n",
      "Requirement already satisfied: ptyprocess>=0.5 in /opt/anaconda3/envs/star/lib/python3.10/site-packages (from pexpect>4.3->ipython>=6.1.0->ipywidgets) (0.7.0)\n",
      "Requirement already satisfied: executing>=1.2.0 in /opt/anaconda3/envs/star/lib/python3.10/site-packages (from stack_data->ipython>=6.1.0->ipywidgets) (2.2.0)\n",
      "Requirement already satisfied: asttokens>=2.1.0 in /opt/anaconda3/envs/star/lib/python3.10/site-packages (from stack_data->ipython>=6.1.0->ipywidgets) (3.0.0)\n",
      "Requirement already satisfied: pure_eval in /opt/anaconda3/envs/star/lib/python3.10/site-packages (from stack_data->ipython>=6.1.0->ipywidgets) (0.2.3)\n",
      "Note: you may need to restart the kernel to use updated packages.\n"
     ]
    }
   ],
   "source": [
    "%pip install ipywidgets"
   ]
  },
  {
   "cell_type": "code",
   "execution_count": 9,
   "id": "48ad01ef",
   "metadata": {},
   "outputs": [
    {
     "name": "stdout",
     "output_type": "stream",
     "text": [
      "usage: jupyter [-h] [--version] [--config-dir] [--data-dir] [--runtime-dir]\n",
      "               [--paths] [--json] [--debug]\n",
      "               [subcommand]\n",
      "\n",
      "Jupyter: Interactive Computing\n",
      "\n",
      "positional arguments:\n",
      "  subcommand     the subcommand to launch\n",
      "\n",
      "options:\n",
      "  -h, --help     show this help message and exit\n",
      "  --version      show the versions of core jupyter packages and exit\n",
      "  --config-dir   show Jupyter config dir\n",
      "  --data-dir     show Jupyter data dir\n",
      "  --runtime-dir  show Jupyter runtime dir\n",
      "  --paths        show all Jupyter paths. Add --json for machine-readable\n",
      "                 format.\n",
      "  --json         output paths as machine-readable json\n",
      "  --debug        output debug information about paths\n",
      "\n",
      "Available subcommands: kernel kernelspec migrate run troubleshoot\n",
      "\n",
      "Jupyter command `jupyter-nbextension` not found.\n"
     ]
    }
   ],
   "source": [
    "!jupyter nbextension enable --py widgetsnbextension"
   ]
  },
  {
   "cell_type": "code",
   "execution_count": 11,
   "id": "61f5c961",
   "metadata": {},
   "outputs": [],
   "source": [
    "a = input()"
   ]
  },
  {
   "cell_type": "code",
   "execution_count": 28,
   "id": "b07e6759",
   "metadata": {},
   "outputs": [
    {
     "name": "stdout",
     "output_type": "stream",
     "text": [
      "1 4\n"
     ]
    }
   ],
   "source": [
    "import sys\n",
    "\n",
    "# H, W, N = map(int, sys.stdin.readline().split())\n",
    "H, W, N = map(int, input().split())\n",
    "a, b = divmod(N, H)\n",
    "print(a, b)"
   ]
  },
  {
   "cell_type": "code",
   "execution_count": 29,
   "id": "13b23b5a",
   "metadata": {},
   "outputs": [],
   "source": [
    "if a+1 <= 10:\n",
    "    room_num = \"0\" + str(a+1)\n",
    "else:\n",
    "    room_num = str(a+1)\n"
   ]
  },
  {
   "cell_type": "code",
   "execution_count": 30,
   "id": "f19e1882",
   "metadata": {},
   "outputs": [
    {
     "data": {
      "text/plain": [
       "'02'"
      ]
     },
     "execution_count": 30,
     "metadata": {},
     "output_type": "execute_result"
    }
   ],
   "source": [
    "room_num"
   ]
  },
  {
   "cell_type": "code",
   "execution_count": 24,
   "id": "8a763829",
   "metadata": {},
   "outputs": [],
   "source": [
    "a = 9"
   ]
  },
  {
   "cell_type": "code",
   "execution_count": 25,
   "id": "ec3896b2",
   "metadata": {},
   "outputs": [
    {
     "data": {
      "text/plain": [
       "'10'"
      ]
     },
     "execution_count": 25,
     "metadata": {},
     "output_type": "execute_result"
    }
   ],
   "source": [
    "if a+1 < 10:\n",
    "    room_num = \"0\" + str(a+1)\n",
    "else:\n",
    "    room_num = str(a+1)\n",
    "room_num"
   ]
  },
  {
   "cell_type": "code",
   "execution_count": 31,
   "id": "36758e14",
   "metadata": {},
   "outputs": [],
   "source": [
    "level = str(b)\n",
    "assign_room = level + room_num\n"
   ]
  },
  {
   "cell_type": "code",
   "execution_count": 32,
   "id": "21614629",
   "metadata": {},
   "outputs": [
    {
     "data": {
      "text/plain": [
       "'402'"
      ]
     },
     "execution_count": 32,
     "metadata": {},
     "output_type": "execute_result"
    }
   ],
   "source": [
    "assign_room"
   ]
  },
  {
   "cell_type": "code",
   "execution_count": 37,
   "id": "86098208",
   "metadata": {},
   "outputs": [
    {
     "name": "stdout",
     "output_type": "stream",
     "text": [
      "402\n",
      "1203\n"
     ]
    }
   ],
   "source": [
    "import sys\n",
    "\n",
    "T = int(input())\n",
    "# T = int(sys.stdin.readline())\n",
    "for i in range(T):\n",
    "    # H, W, N = map(int, sys.stdin.readline().split())\n",
    "    H, W, N = map(int, input().split())\n",
    "    sh, rem = divmod(N, H)\n",
    "    if sh+1 < 10:\n",
    "        room_num = \"0\" + str(sh+1)\n",
    "    else:\n",
    "        room_num = str(sh+1)\n",
    "    level = str(rem)\n",
    "    print(level+room_num)"
   ]
  },
  {
   "cell_type": "code",
   "execution_count": null,
   "id": "dd86275e",
   "metadata": {},
   "outputs": [],
   "source": [
    "## failed because of the exception case when remainder is 0"
   ]
  },
  {
   "cell_type": "code",
   "execution_count": null,
   "id": "6784f727",
   "metadata": {},
   "outputs": [
    {
     "name": "stdout",
     "output_type": "stream",
     "text": [
      "601\n"
     ]
    }
   ],
   "source": [
    "import sys\n",
    "\n",
    "T = int(input())\n",
    "# T = int(sys.stdin.readline())\n",
    "for i in range(T):\n",
    "    # H, W, N = map(int, sys.stdin.readline().split())\n",
    "    H, W, N = map(int, input().split())\n",
    "    sh, rem = divmod(N, H)\n",
    "\n",
    "    if rem == 0:\n",
    "        room_num = str(sh)\n",
    "        level = str(H)\n",
    "    else:\n",
    "        room_num = str(sh+1)\n",
    "    \n",
    "    if len(room_num) == 1:\n",
    "        room_num = \"0\" + room_num\n",
    "\n",
    "    print(level+room_num)"
   ]
  },
  {
   "cell_type": "code",
   "execution_count": null,
   "id": "2fda1323",
   "metadata": {},
   "outputs": [],
   "source": [
    "## 위에 에러: rem != 0일 때 level이 정의가 안 됨\n",
    "## final\n",
    "import sys\n",
    "\n",
    "T = int(input())\n",
    "# T = int(sys.stdin.readline())\n",
    "for i in range(T):\n",
    "    # H, W, N = map(int, sys.stdin.readline().split())\n",
    "    H, W, N = map(int, input().split())\n",
    "    sh, rem = divmod(N, H)\n",
    "\n",
    "    if rem == 0:\n",
    "        room_num = str(sh)\n",
    "        level = str(H)\n",
    "    else:\n",
    "        room_num = str(sh+1)\n",
    "        level = str(rem)\n",
    "    if len(room_num) == 1:\n",
    "        room_num = \"0\" + room_num\n",
    "\n",
    "    print(level+room_num)"
   ]
  },
  {
   "cell_type": "code",
   "execution_count": null,
   "id": "b493adef",
   "metadata": {},
   "outputs": [],
   "source": []
  }
 ],
 "metadata": {
  "kernelspec": {
   "display_name": "star",
   "language": "python",
   "name": "python3"
  },
  "language_info": {
   "codemirror_mode": {
    "name": "ipython",
    "version": 3
   },
   "file_extension": ".py",
   "mimetype": "text/x-python",
   "name": "python",
   "nbconvert_exporter": "python",
   "pygments_lexer": "ipython3",
   "version": "3.10.18"
  }
 },
 "nbformat": 4,
 "nbformat_minor": 5
}
