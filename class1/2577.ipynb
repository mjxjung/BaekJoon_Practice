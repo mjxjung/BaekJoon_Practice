{
 "cells": [
  {
   "cell_type": "code",
   "execution_count": null,
   "id": "e5f55f4e",
   "metadata": {},
   "outputs": [],
   "source": [
    "A = int(input)\n",
    "B = int(input)\n",
    "C = int(input)"
   ]
  },
  {
   "cell_type": "code",
   "execution_count": 1,
   "id": "48c645e2",
   "metadata": {},
   "outputs": [],
   "source": [
    "A = 150\n",
    "B = 266\n",
    "C = 427"
   ]
  },
  {
   "cell_type": "code",
   "execution_count": 2,
   "id": "21a3713d",
   "metadata": {},
   "outputs": [
    {
     "name": "stdout",
     "output_type": "stream",
     "text": [
      "1\n",
      "7\n",
      "0\n",
      "3\n",
      "7\n",
      "3\n",
      "0\n",
      "0\n"
     ]
    }
   ],
   "source": [
    "cal = str(A*B*C)\n",
    "for i in cal:\n",
    "    print(i)"
   ]
  },
  {
   "cell_type": "code",
   "execution_count": 4,
   "id": "b7a46e5b",
   "metadata": {},
   "outputs": [
    {
     "name": "stdout",
     "output_type": "stream",
     "text": [
      "[0, 0, 0, 0, 0, 0, 0, 0, 0, 0]\n"
     ]
    }
   ],
   "source": [
    "num_lst = [0] * 10\n",
    "print(num_lst)"
   ]
  },
  {
   "cell_type": "code",
   "execution_count": 5,
   "id": "dcee3f16",
   "metadata": {},
   "outputs": [],
   "source": [
    "for i in cal:\n",
    "    idx = int(i)\n",
    "    num_lst[idx] += 1"
   ]
  },
  {
   "cell_type": "code",
   "execution_count": null,
   "id": "8d175e3c",
   "metadata": {},
   "outputs": [
    {
     "name": "stdout",
     "output_type": "stream",
     "text": [
      "3 1 0 2 0 0 0 2 0 0\n"
     ]
    }
   ],
   "source": [
    "print(*num_lst)"
   ]
  },
  {
   "cell_type": "code",
   "execution_count": 7,
   "id": "d4cd667f",
   "metadata": {},
   "outputs": [
    {
     "name": "stdout",
     "output_type": "stream",
     "text": [
      "3\n",
      "1\n",
      "0\n",
      "2\n",
      "0\n",
      "0\n",
      "0\n",
      "2\n",
      "0\n",
      "0\n"
     ]
    }
   ],
   "source": [
    "print(*num_lst, sep=\"\\n\")"
   ]
  },
  {
   "cell_type": "code",
   "execution_count": 10,
   "id": "5a292827",
   "metadata": {},
   "outputs": [
    {
     "name": "stdout",
     "output_type": "stream",
     "text": [
      "3\n",
      "1\n",
      "0\n",
      "2\n",
      "0\n",
      "0\n",
      "0\n",
      "2\n",
      "0\n",
      "0\n"
     ]
    }
   ],
   "source": [
    "A = int(input())\n",
    "B = int(input())\n",
    "C = int(input())\n",
    "cal = str(A*B*C)\n",
    "num_lst = [0] * 10\n",
    "for i in cal:\n",
    "    idx = int(i)\n",
    "    num_lst[idx] += 1\n",
    "print(*num_lst, sep=\"\\n\")"
   ]
  },
  {
   "cell_type": "code",
   "execution_count": null,
   "id": "94dd453a",
   "metadata": {},
   "outputs": [],
   "source": []
  }
 ],
 "metadata": {
  "kernelspec": {
   "display_name": "star",
   "language": "python",
   "name": "python3"
  },
  "language_info": {
   "codemirror_mode": {
    "name": "ipython",
    "version": 3
   },
   "file_extension": ".py",
   "mimetype": "text/x-python",
   "name": "python",
   "nbconvert_exporter": "python",
   "pygments_lexer": "ipython3",
   "version": "3.10.18"
  }
 },
 "nbformat": 4,
 "nbformat_minor": 5
}
