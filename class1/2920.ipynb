{
 "cells": [
  {
   "cell_type": "code",
   "execution_count": 1,
   "id": "1584df0e",
   "metadata": {},
   "outputs": [],
   "source": [
    "import sys\n",
    "# notes = sys.stdin.readline().split()\n",
    "notes = input().split()\n"
   ]
  },
  {
   "cell_type": "code",
   "execution_count": 2,
   "id": "9b1a0760",
   "metadata": {},
   "outputs": [
    {
     "name": "stdout",
     "output_type": "stream",
     "text": [
      "1\n",
      "2\n",
      "3\n",
      "4\n",
      "5\n",
      "6\n",
      "7\n",
      "8\n"
     ]
    }
   ],
   "source": [
    "for note in notes:\n",
    "    print(note)"
   ]
  },
  {
   "cell_type": "code",
   "execution_count": 10,
   "id": "ace0b26d",
   "metadata": {},
   "outputs": [
    {
     "name": "stdout",
     "output_type": "stream",
     "text": [
      "['1', '2', '3', '4', '5', '6', '7', '8']\n"
     ]
    }
   ],
   "source": [
    "print(notes)"
   ]
  },
  {
   "cell_type": "code",
   "execution_count": null,
   "id": "eb44c7be",
   "metadata": {},
   "outputs": [
    {
     "name": "stdout",
     "output_type": "stream",
     "text": [
      "1 1\n",
      "yes\n",
      "2 2\n",
      "yes\n",
      "3 3\n",
      "yes\n",
      "4 4\n",
      "yes\n",
      "5 5\n",
      "yes\n",
      "6 6\n",
      "yes\n",
      "7 7\n",
      "yes\n",
      "8 8\n",
      "yes\n"
     ]
    }
   ],
   "source": [
    "for idx in range(len(notes)):\n",
    "    if int(notes[idx]) == idx+1:\n",
    "        print(notes[idx], idx+1)\n",
    "        print('yes')"
   ]
  },
  {
   "cell_type": "code",
   "execution_count": 24,
   "id": "9d976fe4",
   "metadata": {},
   "outputs": [],
   "source": [
    "notes = input().split()"
   ]
  },
  {
   "cell_type": "code",
   "execution_count": 25,
   "id": "c0188a55",
   "metadata": {},
   "outputs": [],
   "source": [
    "tendency_lst = []\n",
    "for idx in range(len(notes)):\n",
    "    if int(notes[idx]) == idx+1:\n",
    "        tendency_lst.append(\"ascend\")\n",
    "    elif int(notes[-(idx+1)]) == idx+1:\n",
    "        tendency_lst.append(\"descend\")"
   ]
  },
  {
   "cell_type": "code",
   "execution_count": 26,
   "id": "1376d6ca",
   "metadata": {},
   "outputs": [
    {
     "data": {
      "text/plain": [
       "['descend',\n",
       " 'descend',\n",
       " 'descend',\n",
       " 'descend',\n",
       " 'descend',\n",
       " 'descend',\n",
       " 'descend',\n",
       " 'descend']"
      ]
     },
     "execution_count": 26,
     "metadata": {},
     "output_type": "execute_result"
    }
   ],
   "source": [
    "tendency_lst"
   ]
  },
  {
   "cell_type": "code",
   "execution_count": 27,
   "id": "f46c9288",
   "metadata": {},
   "outputs": [
    {
     "name": "stdout",
     "output_type": "stream",
     "text": [
      "descending\n"
     ]
    }
   ],
   "source": [
    "if len(tendency_lst) < 8:\n",
    "    print(\"mixed\")\n",
    "elif tendency_lst[0] == \"ascend\":\n",
    "    print(\"ascending\")\n",
    "elif tendency_lst[0] == \"descend\":\n",
    "    print(\"descending\")\n"
   ]
  },
  {
   "cell_type": "code",
   "execution_count": 28,
   "id": "239c7fc2",
   "metadata": {},
   "outputs": [
    {
     "data": {
      "text/plain": [
       "0"
      ]
     },
     "execution_count": 28,
     "metadata": {},
     "output_type": "execute_result"
    }
   ],
   "source": [
    "tendency_lst.count(\"ascend\")"
   ]
  },
  {
   "cell_type": "code",
   "execution_count": 30,
   "id": "a3f6b467",
   "metadata": {},
   "outputs": [
    {
     "data": {
      "text/plain": [
       "8"
      ]
     },
     "execution_count": 30,
     "metadata": {},
     "output_type": "execute_result"
    }
   ],
   "source": [
    "tendency_lst.count(\"descend\")\n"
   ]
  },
  {
   "cell_type": "markdown",
   "id": "b145effd",
   "metadata": {},
   "source": [
    "#### 리스트의 개수가 총 8개 + 인덱스 0이 ascending, descending이어도 섞여서 생성된 것일 수도 있음 \n",
    "#### ascend/descend가 연속적으로 등장 + 개수 총 8개인 것으로\n",
    "##### list.count() 함수"
   ]
  },
  {
   "cell_type": "code",
   "execution_count": 34,
   "id": "e7ab011a",
   "metadata": {},
   "outputs": [
    {
     "name": "stdout",
     "output_type": "stream",
     "text": [
      "descending\n"
     ]
    }
   ],
   "source": [
    "# 고친 로직\n",
    "if tendency_lst.count(\"ascend\") == 8:\n",
    "    print(\"ascending\")\n",
    "elif tendency_lst.count(\"descend\") == 8:\n",
    "    print(\"descending\")\n",
    "elif tendency_lst[0] == \"descend\":\n",
    "    print(\"mixed\")"
   ]
  },
  {
   "cell_type": "code",
   "execution_count": null,
   "id": "df35b553",
   "metadata": {},
   "outputs": [],
   "source": []
  }
 ],
 "metadata": {
  "kernelspec": {
   "display_name": "star",
   "language": "python",
   "name": "python3"
  },
  "language_info": {
   "codemirror_mode": {
    "name": "ipython",
    "version": 3
   },
   "file_extension": ".py",
   "mimetype": "text/x-python",
   "name": "python",
   "nbconvert_exporter": "python",
   "pygments_lexer": "ipython3",
   "version": "3.10.18"
  }
 },
 "nbformat": 4,
 "nbformat_minor": 5
}
